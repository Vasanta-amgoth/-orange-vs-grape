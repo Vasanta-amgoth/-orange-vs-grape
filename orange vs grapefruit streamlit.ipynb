{
 "cells": [
  {
   "cell_type": "code",
   "execution_count": 1,
   "id": "b86f9927-77be-494b-a7e9-a5a1c2306161",
   "metadata": {},
   "outputs": [
    {
     "name": "stderr",
     "output_type": "stream",
     "text": [
      "2024-12-04 19:44:19.506 \n",
      "  \u001b[33m\u001b[1mWarning:\u001b[0m to view this Streamlit app on a browser, run it with the following\n",
      "  command:\n",
      "\n",
      "    streamlit run C:\\Users\\Pandu Pawar\\anaconda3\\Lib\\site-packages\\ipykernel_launcher.py [ARGUMENTS]\n"
     ]
    }
   ],
   "source": [
    "import streamlit as st\n",
    "import joblib\n",
    "import numpy as np\n",
    "\n",
    "# Load the pre-trained Random Forest model\n",
    "model = joblib.load('citrus_pred.pkl')\n",
    "\n",
    "# Function to predict the species\n",
    "def predict_fruit(diameter, weight,red , green, blue):\n",
    "    # Make the prediction using the model\n",
    "    input_data = np.array([[diameter, weight,red , green, blue]])\n",
    "    prediction = model.predict(input_data)\n",
    "    \n",
    "\n",
    "    species = ['orange','Grapefruit']\n",
    "    return species[prediction[0]]\n",
    "\n",
    "# Streamlit app\n",
    "st.title(\"Orange vs Grapefruit predictor\")\n",
    "st.write(\"This is a simple app that predicts the fruit name  based on its features.\")\n",
    "\n",
    "# Input fields for user to provide data\n",
    "diameter = st.number_input(' Fruit diameter', min_value=0.0, max_value=20.0, value=10.0)\n",
    "weight = st.number_input('Fruit weight (kg)', min_value=0.0, max_value=300.0, value=150.0)\n",
    "red = st.number_input('red (cm)', min_value=0.0, max_value=255.0, value=100.0)\n",
    "green = st.number_input('green  (cm)', min_value=0.0, max_value=255.0, value=100.0)\n",
    "blue = st.number_input('blue (cm)', min_value=0.0, max_value=255.0, value=100.0)\n",
    "# Button to make prediction\n",
    "if st.button('Predict Fruit'):\n",
    "    Fruit_name = predict_fruit(diameter, weight,red , green, blue)\n",
    "    st.write(f'The predicted fruit is: {Fruit_name}')\n"
   ]
  },
  {
   "cell_type": "code",
   "execution_count": null,
   "id": "aeaad5aa-8dd7-4e95-82e0-7d1224111fcb",
   "metadata": {},
   "outputs": [],
   "source": []
  }
 ],
 "metadata": {
  "kernelspec": {
   "display_name": "Python 3 (ipykernel)",
   "language": "python",
   "name": "python3"
  },
  "language_info": {
   "codemirror_mode": {
    "name": "ipython",
    "version": 3
   },
   "file_extension": ".py",
   "mimetype": "text/x-python",
   "name": "python",
   "nbconvert_exporter": "python",
   "pygments_lexer": "ipython3",
   "version": "3.12.4"
  }
 },
 "nbformat": 4,
 "nbformat_minor": 5
}
